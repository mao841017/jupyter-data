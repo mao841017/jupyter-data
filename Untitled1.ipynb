{
 "cells": [
  {
   "cell_type": "code",
   "execution_count": 3,
   "id": "abfa8e3c-9eaa-40ee-a6eb-cc4855d336b4",
   "metadata": {},
   "outputs": [],
   "source": [
    "import pandas as pd\n",
    "s1 = pd.Series([-1.2,3.7,2.5,-8.2,6.3])"
   ]
  },
  {
   "cell_type": "code",
   "execution_count": 4,
   "id": "26215b0c-cf43-48e9-a4ec-2e32c4ae0822",
   "metadata": {},
   "outputs": [
    {
     "data": {
      "text/plain": [
       "0   -1.2\n",
       "1    3.7\n",
       "2    2.5\n",
       "3   -8.2\n",
       "4    6.3\n",
       "dtype: float64"
      ]
     },
     "execution_count": 4,
     "metadata": {},
     "output_type": "execute_result"
    }
   ],
   "source": [
    "s1"
   ]
  },
  {
   "cell_type": "code",
   "execution_count": 11,
   "id": "d9684d9b-fd99-47ea-bdae-81a1a6d70e0c",
   "metadata": {},
   "outputs": [
    {
     "name": "stdout",
     "output_type": "stream",
     "text": [
      "RangeIndex(start=0, stop=5, step=1)\n"
     ]
    },
    {
     "data": {
      "text/plain": [
       "array([-1.2,  3.7,  2.5, -8.2,  6.3])"
      ]
     },
     "execution_count": 11,
     "metadata": {},
     "output_type": "execute_result"
    }
   ],
   "source": [
    "print(s1.index)\n",
    "s1.values"
   ]
  },
  {
   "cell_type": "code",
   "execution_count": 16,
   "id": "6274b2a9-93bf-4979-8df4-042afe319285",
   "metadata": {},
   "outputs": [
    {
     "data": {
      "text/plain": [
       "5    1\n",
       "4    2\n",
       "3    3\n",
       "2    4\n",
       "1    5\n",
       "dtype: int64"
      ]
     },
     "execution_count": 16,
     "metadata": {},
     "output_type": "execute_result"
    }
   ],
   "source": [
    "s2=pd.Series([1,2,3,4,5],index=[5,4,3,2,1])\n",
    "s2"
   ]
  },
  {
   "cell_type": "code",
   "execution_count": 19,
   "id": "e84ed6bd-9648-4d92-970e-6954ff878367",
   "metadata": {},
   "outputs": [
    {
     "data": {
      "text/plain": [
       "2"
      ]
     },
     "execution_count": 19,
     "metadata": {},
     "output_type": "execute_result"
    }
   ],
   "source": [
    "s2.iloc[1]"
   ]
  },
  {
   "cell_type": "code",
   "execution_count": 24,
   "id": "20cd264a-3b7f-4534-8dcc-e59b4da9ed75",
   "metadata": {},
   "outputs": [
    {
     "data": {
      "text/plain": [
       "5    1\n",
       "4    2\n",
       "3    3\n",
       "dtype: int64"
      ]
     },
     "execution_count": 24,
     "metadata": {},
     "output_type": "execute_result"
    }
   ],
   "source": [
    "s2.iloc[0:3]"
   ]
  },
  {
   "cell_type": "code",
   "execution_count": 25,
   "id": "60026553-2327-48ad-801a-63051ff71d2e",
   "metadata": {},
   "outputs": [
    {
     "data": {
      "text/plain": [
       "5    1\n",
       "4    2\n",
       "3    3\n",
       "dtype: int64"
      ]
     },
     "execution_count": 25,
     "metadata": {},
     "output_type": "execute_result"
    }
   ],
   "source": [
    "s2.loc[5:3]"
   ]
  },
  {
   "cell_type": "code",
   "execution_count": 27,
   "id": "8ea96580-b13d-410d-907d-4fc9c7e2facd",
   "metadata": {},
   "outputs": [
    {
     "data": {
      "text/plain": [
       "小李    1\n",
       "小陈    2\n",
       "小张    3\n",
       "小毛    4\n",
       "dtype: int64"
      ]
     },
     "execution_count": 27,
     "metadata": {},
     "output_type": "execute_result"
    }
   ],
   "source": [
    "s3=pd.Series({\"小李\":1,\"小陈\":2,\"小张\":3,\"小毛\":4})\n",
    "s3"
   ]
  },
  {
   "cell_type": "code",
   "execution_count": 28,
   "id": "df203d2e-5a4d-4897-8642-762d66d3e88d",
   "metadata": {},
   "outputs": [
    {
     "data": {
      "text/plain": [
       "小李    11\n",
       "小陈     2\n",
       "小张     3\n",
       "小毛     4\n",
       "dtype: int64"
      ]
     },
     "execution_count": 28,
     "metadata": {},
     "output_type": "execute_result"
    }
   ],
   "source": [
    "s3.loc[\"小李\"]=11\n",
    "s3"
   ]
  },
  {
   "cell_type": "code",
   "execution_count": 31,
   "id": "25e71efc-e9f4-4f98-ab30-f2df999f7e82",
   "metadata": {},
   "outputs": [
    {
     "data": {
      "text/plain": [
       "小毛    4\n",
       "dtype: int64"
      ]
     },
     "execution_count": 31,
     "metadata": {},
     "output_type": "execute_result"
    }
   ],
   "source": [
    "s3[(s3>3)&(s3<10)]"
   ]
  },
  {
   "cell_type": "code",
   "execution_count": 32,
   "id": "75f69e78-bd34-4e8b-93f6-cff87011e602",
   "metadata": {},
   "outputs": [
    {
     "data": {
      "text/plain": [
       "小李     True\n",
       "小陈    False\n",
       "小张    False\n",
       "小毛    False\n",
       "dtype: bool"
      ]
     },
     "execution_count": 32,
     "metadata": {},
     "output_type": "execute_result"
    }
   ],
   "source": [
    "s3>5"
   ]
  },
  {
   "cell_type": "code",
   "execution_count": 33,
   "id": "e51469aa-2a1d-441f-a291-fbab4881176f",
   "metadata": {},
   "outputs": [
    {
     "data": {
      "text/plain": [
       "<bound method Series.mean of 小李    11\n",
       "小陈     2\n",
       "小张     3\n",
       "小毛     4\n",
       "dtype: int64>"
      ]
     },
     "execution_count": 33,
     "metadata": {},
     "output_type": "execute_result"
    }
   ],
   "source": [
    "s3.mean"
   ]
  },
  {
   "cell_type": "code",
   "execution_count": 34,
   "id": "3cb1e12f-2fdb-492b-bb1a-662a04a3e3af",
   "metadata": {},
   "outputs": [
    {
     "data": {
      "text/plain": [
       "11"
      ]
     },
     "execution_count": 34,
     "metadata": {},
     "output_type": "execute_result"
    }
   ],
   "source": [
    "s3.max()"
   ]
  },
  {
   "cell_type": "code",
   "execution_count": 35,
   "id": "448eccd0-63ee-4bfb-b4bf-15f2aa5a19c9",
   "metadata": {},
   "outputs": [
    {
     "data": {
      "text/plain": [
       "5.0"
      ]
     },
     "execution_count": 35,
     "metadata": {},
     "output_type": "execute_result"
    }
   ],
   "source": [
    "s3.mean()"
   ]
  },
  {
   "cell_type": "code",
   "execution_count": 36,
   "id": "e03166b3-fd9a-4d06-8947-dc8ae517609d",
   "metadata": {},
   "outputs": [
    {
     "data": {
      "text/plain": [
       "count     4.000000\n",
       "mean      5.000000\n",
       "std       4.082483\n",
       "min       2.000000\n",
       "25%       2.750000\n",
       "50%       3.500000\n",
       "75%       5.750000\n",
       "max      11.000000\n",
       "dtype: float64"
      ]
     },
     "execution_count": 36,
     "metadata": {},
     "output_type": "execute_result"
    }
   ],
   "source": [
    "s3.describe()"
   ]
  },
  {
   "cell_type": "code",
   "execution_count": 37,
   "id": "fe9832c5-cef4-452a-ac57-80adc687f03c",
   "metadata": {},
   "outputs": [
    {
     "data": {
      "text/plain": [
       "小李    13\n",
       "小陈     4\n",
       "小张     5\n",
       "小毛     6\n",
       "dtype: int64"
      ]
     },
     "execution_count": 37,
     "metadata": {},
     "output_type": "execute_result"
    }
   ],
   "source": [
    "s3+2"
   ]
  },
  {
   "cell_type": "code",
   "execution_count": 38,
   "id": "de69edc9-beb2-43df-9fb1-4d82c3e04a5b",
   "metadata": {},
   "outputs": [
    {
     "data": {
      "text/plain": [
       "小李    11\n",
       "小陈     2\n",
       "小张     3\n",
       "小毛     4\n",
       "dtype: int64"
      ]
     },
     "execution_count": 38,
     "metadata": {},
     "output_type": "execute_result"
    }
   ],
   "source": [
    "s3"
   ]
  },
  {
   "cell_type": "code",
   "execution_count": 39,
   "id": "b7f0b1cd-e034-401b-a701-f57e6c692881",
   "metadata": {},
   "outputs": [
    {
     "data": {
      "text/plain": [
       "小李    99\n",
       "小陈    18\n",
       "小张    27\n",
       "小毛    36\n",
       "dtype: int64"
      ]
     },
     "execution_count": 39,
     "metadata": {},
     "output_type": "execute_result"
    }
   ],
   "source": [
    "s3*9"
   ]
  },
  {
   "cell_type": "code",
   "execution_count": 41,
   "id": "82a920a7-f2ce-4e6d-868c-1b33d3d459f1",
   "metadata": {},
   "outputs": [],
   "source": [
    "def get(score):\n",
    "  if score>=90:\n",
    "      return \"A\"\n",
    "  elif score>=80:\n",
    "      return \"B\"\n",
    "  elif score>=70:\n",
    "      return \"C\"\n",
    "  else:\n",
    "      return \"D\""
   ]
  },
  {
   "cell_type": "code",
   "execution_count": 42,
   "id": "fb50c24a-292d-4476-9657-02918cbf13e0",
   "metadata": {},
   "outputs": [
    {
     "data": {
      "text/plain": [
       "小李    99\n",
       "小陈    18\n",
       "小张    27\n",
       "小毛    36\n",
       "dtype: int64"
      ]
     },
     "execution_count": 42,
     "metadata": {},
     "output_type": "execute_result"
    }
   ],
   "source": [
    "s3=s3*9\n",
    "s3"
   ]
  },
  {
   "cell_type": "code",
   "execution_count": 43,
   "id": "ce91114f-bdfb-450e-9b68-5d77f5915487",
   "metadata": {},
   "outputs": [],
   "source": [
    "s3.loc[\"小毛\"]=96"
   ]
  },
  {
   "cell_type": "code",
   "execution_count": 51,
   "id": "3b2c5cef-9a60-4092-aeeb-5531f7d14299",
   "metadata": {},
   "outputs": [],
   "source": [
    "s4=s3.apply(get)"
   ]
  },
  {
   "cell_type": "code",
   "execution_count": 52,
   "id": "352887ec-b7b7-4597-847a-669e8fdaecd3",
   "metadata": {},
   "outputs": [
    {
     "name": "stdout",
     "output_type": "stream",
     "text": [
      "小李    99\n",
      "小陈    18\n",
      "小张    27\n",
      "小毛    96\n",
      "dtype: int64\n",
      "小李    A\n",
      "小陈    D\n",
      "小张    D\n",
      "小毛    A\n",
      "dtype: object\n"
     ]
    }
   ],
   "source": [
    "print(s3)\n",
    "print(s4)"
   ]
  },
  {
   "cell_type": "code",
   "execution_count": 69,
   "id": "81909805-1ed8-4b49-b1f1-e72aa1d0f1c7",
   "metadata": {},
   "outputs": [
    {
     "data": {
      "text/html": [
       "<div>\n",
       "<style scoped>\n",
       "    .dataframe tbody tr th:only-of-type {\n",
       "        vertical-align: middle;\n",
       "    }\n",
       "\n",
       "    .dataframe tbody tr th {\n",
       "        vertical-align: top;\n",
       "    }\n",
       "\n",
       "    .dataframe thead th {\n",
       "        text-align: right;\n",
       "    }\n",
       "</style>\n",
       "<table border=\"1\" class=\"dataframe\">\n",
       "  <thead>\n",
       "    <tr style=\"text-align: right;\">\n",
       "      <th></th>\n",
       "      <th>学号</th>\n",
       "      <th>班级</th>\n",
       "      <th>成绩</th>\n",
       "    </tr>\n",
       "  </thead>\n",
       "  <tbody>\n",
       "    <tr>\n",
       "      <th>张三</th>\n",
       "      <td>001</td>\n",
       "      <td>一班</td>\n",
       "      <td>99</td>\n",
       "    </tr>\n",
       "    <tr>\n",
       "      <th>李四</th>\n",
       "      <td>002</td>\n",
       "      <td>二班</td>\n",
       "      <td>98</td>\n",
       "    </tr>\n",
       "    <tr>\n",
       "      <th>王五</th>\n",
       "      <td>003</td>\n",
       "      <td>三班</td>\n",
       "      <td>97</td>\n",
       "    </tr>\n",
       "  </tbody>\n",
       "</table>\n",
       "</div>"
      ],
      "text/plain": [
       "     学号  班级  成绩\n",
       "张三  001  一班  99\n",
       "李四  002  二班  98\n",
       "王五  003  三班  97"
      ]
     },
     "execution_count": 69,
     "metadata": {},
     "output_type": "execute_result"
    }
   ],
   "source": [
    "s1=pd.Series([\"001\",\"002\",\"003\"],index=[\"张三\",\"李四\",\"王五\"])\n",
    "s2=pd.Series([\"一班\",\"二班\",\"三班\"],index=[\"张三\",\"李四\",\"王五\"])\n",
    "s3=pd.Series([99,98,97],index=[\"张三\",\"李四\",\"王五\"])\n",
    "s4=pd.DataFrame({\"学号\":s1,\"班级\":s2,\"成绩\":s3})\n",
    "s4"
   ]
  },
  {
   "cell_type": "code",
   "execution_count": 83,
   "id": "077e83d9-543d-40b4-8b0c-a44e26ba9d06",
   "metadata": {},
   "outputs": [
    {
     "data": {
      "text/html": [
       "<div>\n",
       "<style scoped>\n",
       "    .dataframe tbody tr th:only-of-type {\n",
       "        vertical-align: middle;\n",
       "    }\n",
       "\n",
       "    .dataframe tbody tr th {\n",
       "        vertical-align: top;\n",
       "    }\n",
       "\n",
       "    .dataframe thead th {\n",
       "        text-align: right;\n",
       "    }\n",
       "</style>\n",
       "<table border=\"1\" class=\"dataframe\">\n",
       "  <thead>\n",
       "    <tr style=\"text-align: right;\">\n",
       "      <th></th>\n",
       "      <th>学号</th>\n",
       "      <th>班级</th>\n",
       "      <th>成绩</th>\n",
       "    </tr>\n",
       "  </thead>\n",
       "  <tbody>\n",
       "    <tr>\n",
       "      <th>张三</th>\n",
       "      <td>001</td>\n",
       "      <td>一班</td>\n",
       "      <td>99</td>\n",
       "    </tr>\n",
       "    <tr>\n",
       "      <th>李四</th>\n",
       "      <td>002</td>\n",
       "      <td>二班</td>\n",
       "      <td>98</td>\n",
       "    </tr>\n",
       "    <tr>\n",
       "      <th>王五</th>\n",
       "      <td>003</td>\n",
       "      <td>三班</td>\n",
       "      <td>97</td>\n",
       "    </tr>\n",
       "  </tbody>\n",
       "</table>\n",
       "</div>"
      ],
      "text/plain": [
       "     学号  班级  成绩\n",
       "张三  001  一班  99\n",
       "李四  002  二班  98\n",
       "王五  003  三班  97"
      ]
     },
     "execution_count": 83,
     "metadata": {},
     "output_type": "execute_result"
    }
   ],
   "source": [
    "s5=pd.DataFrame({\"张三\":{\"学号\":\"001\",\"班级\":\"一班\",\"成绩\":99},\"李四\":{\"学号\":\"002\",\"班级\":\"二班\",\"成绩\":98},\"王五\":{\"学号\":\"003\",\"班级\":\"三班\",\"成绩\":97}})\n",
    "s5.T"
   ]
  },
  {
   "cell_type": "code",
   "execution_count": 85,
   "id": "8bedc421-292c-4bef-a1dc-bac464442025",
   "metadata": {},
   "outputs": [
    {
     "data": {
      "text/html": [
       "<div>\n",
       "<style scoped>\n",
       "    .dataframe tbody tr th:only-of-type {\n",
       "        vertical-align: middle;\n",
       "    }\n",
       "\n",
       "    .dataframe tbody tr th {\n",
       "        vertical-align: top;\n",
       "    }\n",
       "\n",
       "    .dataframe thead th {\n",
       "        text-align: right;\n",
       "    }\n",
       "</style>\n",
       "<table border=\"1\" class=\"dataframe\">\n",
       "  <thead>\n",
       "    <tr style=\"text-align: right;\">\n",
       "      <th></th>\n",
       "      <th>张三</th>\n",
       "      <th>李四</th>\n",
       "      <th>王五</th>\n",
       "    </tr>\n",
       "  </thead>\n",
       "  <tbody>\n",
       "    <tr>\n",
       "      <th>学号</th>\n",
       "      <td>001</td>\n",
       "      <td>002</td>\n",
       "      <td>003</td>\n",
       "    </tr>\n",
       "    <tr>\n",
       "      <th>班级</th>\n",
       "      <td>一班</td>\n",
       "      <td>二班</td>\n",
       "      <td>三班</td>\n",
       "    </tr>\n",
       "    <tr>\n",
       "      <th>成绩</th>\n",
       "      <td>99</td>\n",
       "      <td>98</td>\n",
       "      <td>97</td>\n",
       "    </tr>\n",
       "  </tbody>\n",
       "</table>\n",
       "</div>"
      ],
      "text/plain": [
       "     张三   李四   王五\n",
       "学号  001  002  003\n",
       "班级   一班   二班   三班\n",
       "成绩   99   98   97"
      ]
     },
     "execution_count": 85,
     "metadata": {},
     "output_type": "execute_result"
    }
   ],
   "source": [
    "s5"
   ]
  },
  {
   "cell_type": "code",
   "execution_count": 89,
   "id": "11961420-4a64-4068-8236-38a4c2ce6f88",
   "metadata": {},
   "outputs": [
    {
     "data": {
      "text/html": [
       "<div>\n",
       "<style scoped>\n",
       "    .dataframe tbody tr th:only-of-type {\n",
       "        vertical-align: middle;\n",
       "    }\n",
       "\n",
       "    .dataframe tbody tr th {\n",
       "        vertical-align: top;\n",
       "    }\n",
       "\n",
       "    .dataframe thead th {\n",
       "        text-align: right;\n",
       "    }\n",
       "</style>\n",
       "<table border=\"1\" class=\"dataframe\">\n",
       "  <thead>\n",
       "    <tr style=\"text-align: right;\">\n",
       "      <th></th>\n",
       "      <th>学号</th>\n",
       "      <th>班级</th>\n",
       "      <th>成绩</th>\n",
       "    </tr>\n",
       "  </thead>\n",
       "  <tbody>\n",
       "    <tr>\n",
       "      <th>张三</th>\n",
       "      <td>001</td>\n",
       "      <td>一班</td>\n",
       "      <td>98</td>\n",
       "    </tr>\n",
       "    <tr>\n",
       "      <th>李四</th>\n",
       "      <td>002</td>\n",
       "      <td>二班</td>\n",
       "      <td>97</td>\n",
       "    </tr>\n",
       "    <tr>\n",
       "      <th>王五</th>\n",
       "      <td>003</td>\n",
       "      <td>三班</td>\n",
       "      <td>96</td>\n",
       "    </tr>\n",
       "  </tbody>\n",
       "</table>\n",
       "</div>"
      ],
      "text/plain": [
       "     学号  班级  成绩\n",
       "张三  001  一班  98\n",
       "李四  002  二班  97\n",
       "王五  003  三班  96"
      ]
     },
     "execution_count": 89,
     "metadata": {},
     "output_type": "execute_result"
    }
   ],
   "source": [
    "s5=pd.DataFrame({\"学号\":{\"张三\":\"001\",\"李四\":\"002\",\"王五\":\"003\"},\"班级\":{\"张三\":\"一班\",\"李四\":\"二班\",\"王五\":\"三班\"},\"成绩\":{\"张三\":\"98\",\"李四\":\"97\",\"王五\":\"96\"}})\n",
    "s5"
   ]
  },
  {
   "cell_type": "code",
   "execution_count": 98,
   "id": "ad35da86-992b-4789-a0df-405a1b1e9702",
   "metadata": {},
   "outputs": [
    {
     "data": {
      "text/html": [
       "<div>\n",
       "<style scoped>\n",
       "    .dataframe tbody tr th:only-of-type {\n",
       "        vertical-align: middle;\n",
       "    }\n",
       "\n",
       "    .dataframe tbody tr th {\n",
       "        vertical-align: top;\n",
       "    }\n",
       "\n",
       "    .dataframe thead th {\n",
       "        text-align: right;\n",
       "    }\n",
       "</style>\n",
       "<table border=\"1\" class=\"dataframe\">\n",
       "  <thead>\n",
       "    <tr style=\"text-align: right;\">\n",
       "      <th></th>\n",
       "      <th>学号</th>\n",
       "      <th>班级</th>\n",
       "    </tr>\n",
       "  </thead>\n",
       "  <tbody>\n",
       "    <tr>\n",
       "      <th>张三</th>\n",
       "      <td>001</td>\n",
       "      <td>一班</td>\n",
       "    </tr>\n",
       "    <tr>\n",
       "      <th>李四</th>\n",
       "      <td>002</td>\n",
       "      <td>二班</td>\n",
       "    </tr>\n",
       "    <tr>\n",
       "      <th>王五</th>\n",
       "      <td>003</td>\n",
       "      <td>三班</td>\n",
       "    </tr>\n",
       "  </tbody>\n",
       "</table>\n",
       "</div>"
      ],
      "text/plain": [
       "     学号  班级\n",
       "张三  001  一班\n",
       "李四  002  二班\n",
       "王五  003  三班"
      ]
     },
     "execution_count": 98,
     "metadata": {},
     "output_type": "execute_result"
    }
   ],
   "source": [
    "s5[[\"学号\",'班级']]"
   ]
  },
  {
   "cell_type": "code",
   "execution_count": 99,
   "id": "c3e845fb-a513-4300-9b30-032ea2ec4f81",
   "metadata": {},
   "outputs": [
    {
     "data": {
      "text/plain": [
       "张三    001\n",
       "李四    002\n",
       "王五    003\n",
       "Name: 学号, dtype: object"
      ]
     },
     "execution_count": 99,
     "metadata": {},
     "output_type": "execute_result"
    }
   ],
   "source": [
    "s5[\"学号\"]"
   ]
  },
  {
   "cell_type": "code",
   "execution_count": null,
   "id": "d71b2109-1eec-4bbc-98d2-e565ddc95fcf",
   "metadata": {},
   "outputs": [],
   "source": []
  },
  {
   "cell_type": "code",
   "execution_count": 95,
   "id": "ee1cc11b-956a-4781-ad36-0b8feb59e14b",
   "metadata": {},
   "outputs": [
    {
     "data": {
      "text/plain": [
       "学号    002\n",
       "班级     二班\n",
       "成绩     97\n",
       "Name: 李四, dtype: object"
      ]
     },
     "execution_count": 95,
     "metadata": {},
     "output_type": "execute_result"
    }
   ],
   "source": [
    "s5.iloc[1]"
   ]
  },
  {
   "cell_type": "code",
   "execution_count": 97,
   "id": "50ef879d-482d-4d8f-a712-cc1cfb7b2b76",
   "metadata": {},
   "outputs": [
    {
     "data": {
      "text/plain": [
       "学号    001\n",
       "班级     一班\n",
       "成绩     98\n",
       "Name: 张三, dtype: object"
      ]
     },
     "execution_count": 97,
     "metadata": {},
     "output_type": "execute_result"
    }
   ],
   "source": [
    "s5.loc['张三']"
   ]
  },
  {
   "cell_type": "code",
   "execution_count": 108,
   "id": "9eb8e163-18f8-4f57-aeca-081f56003f8e",
   "metadata": {},
   "outputs": [
    {
     "data": {
      "text/html": [
       "<div>\n",
       "<style scoped>\n",
       "    .dataframe tbody tr th:only-of-type {\n",
       "        vertical-align: middle;\n",
       "    }\n",
       "\n",
       "    .dataframe tbody tr th {\n",
       "        vertical-align: top;\n",
       "    }\n",
       "\n",
       "    .dataframe thead th {\n",
       "        text-align: right;\n",
       "    }\n",
       "</style>\n",
       "<table border=\"1\" class=\"dataframe\">\n",
       "  <thead>\n",
       "    <tr style=\"text-align: right;\">\n",
       "      <th></th>\n",
       "      <th>学号</th>\n",
       "      <th>班级</th>\n",
       "      <th>成绩</th>\n",
       "    </tr>\n",
       "  </thead>\n",
       "  <tbody>\n",
       "    <tr>\n",
       "      <th>张三</th>\n",
       "      <td>001</td>\n",
       "      <td>一班</td>\n",
       "      <td>98</td>\n",
       "    </tr>\n",
       "    <tr>\n",
       "      <th>王五</th>\n",
       "      <td>003</td>\n",
       "      <td>一班</td>\n",
       "      <td>96</td>\n",
       "    </tr>\n",
       "  </tbody>\n",
       "</table>\n",
       "</div>"
      ],
      "text/plain": [
       "     学号  班级  成绩\n",
       "张三  001  一班  98\n",
       "王五  003  一班  96"
      ]
     },
     "execution_count": 108,
     "metadata": {},
     "output_type": "execute_result"
    }
   ],
   "source": [
    "s5[(s5.成绩==\"98\")|(s5.学号==\"003\")]\n"
   ]
  },
  {
   "cell_type": "code",
   "execution_count": 110,
   "id": "d7b2f4d7-a059-4825-a3a2-af300fb504c3",
   "metadata": {},
   "outputs": [
    {
     "data": {
      "text/html": [
       "<div>\n",
       "<style scoped>\n",
       "    .dataframe tbody tr th:only-of-type {\n",
       "        vertical-align: middle;\n",
       "    }\n",
       "\n",
       "    .dataframe tbody tr th {\n",
       "        vertical-align: top;\n",
       "    }\n",
       "\n",
       "    .dataframe thead th {\n",
       "        text-align: right;\n",
       "    }\n",
       "</style>\n",
       "<table border=\"1\" class=\"dataframe\">\n",
       "  <thead>\n",
       "    <tr style=\"text-align: right;\">\n",
       "      <th></th>\n",
       "      <th>学号</th>\n",
       "      <th>班级</th>\n",
       "      <th>成绩</th>\n",
       "    </tr>\n",
       "  </thead>\n",
       "  <tbody>\n",
       "    <tr>\n",
       "      <th>张三</th>\n",
       "      <td>001</td>\n",
       "      <td>一班</td>\n",
       "      <td>98</td>\n",
       "    </tr>\n",
       "    <tr>\n",
       "      <th>李四</th>\n",
       "      <td>002</td>\n",
       "      <td>一班</td>\n",
       "      <td>97</td>\n",
       "    </tr>\n",
       "    <tr>\n",
       "      <th>王五</th>\n",
       "      <td>003</td>\n",
       "      <td>一班</td>\n",
       "      <td>96</td>\n",
       "    </tr>\n",
       "  </tbody>\n",
       "</table>\n",
       "</div>"
      ],
      "text/plain": [
       "     学号  班级  成绩\n",
       "张三  001  一班  98\n",
       "李四  002  一班  97\n",
       "王五  003  一班  96"
      ]
     },
     "execution_count": 110,
     "metadata": {},
     "output_type": "execute_result"
    }
   ],
   "source": [
    "s5.head(10)"
   ]
  },
  {
   "cell_type": "code",
   "execution_count": 118,
   "id": "42fb1cdf-7ff0-43a0-99e5-e789481a6a55",
   "metadata": {},
   "outputs": [
    {
     "data": {
      "text/html": [
       "<div>\n",
       "<style scoped>\n",
       "    .dataframe tbody tr th:only-of-type {\n",
       "        vertical-align: middle;\n",
       "    }\n",
       "\n",
       "    .dataframe tbody tr th {\n",
       "        vertical-align: top;\n",
       "    }\n",
       "\n",
       "    .dataframe thead th {\n",
       "        text-align: right;\n",
       "    }\n",
       "</style>\n",
       "<table border=\"1\" class=\"dataframe\">\n",
       "  <thead>\n",
       "    <tr style=\"text-align: right;\">\n",
       "      <th></th>\n",
       "      <th>姓名</th>\n",
       "      <th>性别</th>\n",
       "      <th>身高</th>\n",
       "    </tr>\n",
       "  </thead>\n",
       "  <tbody>\n",
       "    <tr>\n",
       "      <th>001</th>\n",
       "      <td>小陈</td>\n",
       "      <td>女</td>\n",
       "      <td>172.5</td>\n",
       "    </tr>\n",
       "    <tr>\n",
       "      <th>002</th>\n",
       "      <td>小李</td>\n",
       "      <td>女</td>\n",
       "      <td>168.0</td>\n",
       "    </tr>\n",
       "    <tr>\n",
       "      <th>003</th>\n",
       "      <td>小王</td>\n",
       "      <td>男</td>\n",
       "      <td>178.2</td>\n",
       "    </tr>\n",
       "    <tr>\n",
       "      <th>004</th>\n",
       "      <td>小张</td>\n",
       "      <td>男</td>\n",
       "      <td>181.3</td>\n",
       "    </tr>\n",
       "    <tr>\n",
       "      <th>005</th>\n",
       "      <td>小赵</td>\n",
       "      <td>女</td>\n",
       "      <td>161.7</td>\n",
       "    </tr>\n",
       "    <tr>\n",
       "      <th>006</th>\n",
       "      <td>小周</td>\n",
       "      <td>男</td>\n",
       "      <td>NaN</td>\n",
       "    </tr>\n",
       "  </tbody>\n",
       "</table>\n",
       "</div>"
      ],
      "text/plain": [
       "     姓名 性别     身高\n",
       "001  小陈  女  172.5\n",
       "002  小李  女  168.0\n",
       "003  小王  男  178.2\n",
       "004  小张  男  181.3\n",
       "005  小赵  女  161.7\n",
       "006  小周  男    NaN"
      ]
     },
     "execution_count": 118,
     "metadata": {},
     "output_type": "execute_result"
    }
   ],
   "source": [
    "name = pd.Series({\"001\":\"小陈\",\"002\":\"小李\",\"003\":\"小王\",\"004\":\"小张\",\"005\":\"小赵\",\"006\":\"小周\"})\n",
    "gender = pd.Series({\"001\":\"女\",\"002\":\"女\",\"003\":\"男\",\"004\":\"男\",\"005\":\"女\",\"006\":\"男\"})\n",
    "height = pd.Series({\"001\":172.5,\"002\":168.0,\"003\":178.2,\"004\":181.3,\"005\":161.7})\n",
    "students = pd.DataFrame({\"姓名\":name,\"性别\":gender,\"身高\":height})\n",
    "students"
   ]
  },
  {
   "cell_type": "code",
   "execution_count": 121,
   "id": "6074e39e-2c4d-454e-bb7f-8a04d13fb622",
   "metadata": {},
   "outputs": [
    {
     "name": "stdout",
     "output_type": "stream",
     "text": [
      "Index(['001', '002', '003', '004', '005', '006'], dtype='object')\n",
      "Index(['姓名', '性别', '身高'], dtype='object')\n"
     ]
    }
   ],
   "source": [
    "print(students.index)\n",
    "print(students.columns)"
   ]
  },
  {
   "cell_type": "code",
   "execution_count": 128,
   "id": "20f94b10-ae7f-47e4-b3e0-821ae2c6d46c",
   "metadata": {},
   "outputs": [
    {
     "data": {
      "text/html": [
       "<div>\n",
       "<style scoped>\n",
       "    .dataframe tbody tr th:only-of-type {\n",
       "        vertical-align: middle;\n",
       "    }\n",
       "\n",
       "    .dataframe tbody tr th {\n",
       "        vertical-align: top;\n",
       "    }\n",
       "\n",
       "    .dataframe thead th {\n",
       "        text-align: right;\n",
       "    }\n",
       "</style>\n",
       "<table border=\"1\" class=\"dataframe\">\n",
       "  <thead>\n",
       "    <tr style=\"text-align: right;\">\n",
       "      <th></th>\n",
       "      <th>身高</th>\n",
       "      <th>性别</th>\n",
       "    </tr>\n",
       "  </thead>\n",
       "  <tbody>\n",
       "    <tr>\n",
       "      <th>001</th>\n",
       "      <td>172.5</td>\n",
       "      <td>女</td>\n",
       "    </tr>\n",
       "    <tr>\n",
       "      <th>002</th>\n",
       "      <td>168.0</td>\n",
       "      <td>女</td>\n",
       "    </tr>\n",
       "    <tr>\n",
       "      <th>003</th>\n",
       "      <td>178.2</td>\n",
       "      <td>男</td>\n",
       "    </tr>\n",
       "    <tr>\n",
       "      <th>004</th>\n",
       "      <td>181.3</td>\n",
       "      <td>男</td>\n",
       "    </tr>\n",
       "    <tr>\n",
       "      <th>005</th>\n",
       "      <td>161.7</td>\n",
       "      <td>女</td>\n",
       "    </tr>\n",
       "    <tr>\n",
       "      <th>006</th>\n",
       "      <td>NaN</td>\n",
       "      <td>男</td>\n",
       "    </tr>\n",
       "  </tbody>\n",
       "</table>\n",
       "</div>"
      ],
      "text/plain": [
       "        身高 性别\n",
       "001  172.5  女\n",
       "002  168.0  女\n",
       "003  178.2  男\n",
       "004  181.3  男\n",
       "005  161.7  女\n",
       "006    NaN  男"
      ]
     },
     "execution_count": 128,
     "metadata": {},
     "output_type": "execute_result"
    }
   ],
   "source": [
    "students[[\"身高\",\"性别\"]]"
   ]
  },
  {
   "cell_type": "code",
   "execution_count": 130,
   "id": "6ab6295a-6163-4a7a-89c4-9be33d4f304e",
   "metadata": {},
   "outputs": [
    {
     "data": {
      "text/plain": [
       "姓名       小王\n",
       "性别        男\n",
       "身高    178.2\n",
       "Name: 003, dtype: object"
      ]
     },
     "execution_count": 130,
     "metadata": {},
     "output_type": "execute_result"
    }
   ],
   "source": [
    "students.loc[\"003\"]"
   ]
  },
  {
   "cell_type": "code",
   "execution_count": 132,
   "id": "72db891d-9531-4e3d-90dd-bf80589a34d3",
   "metadata": {},
   "outputs": [
    {
     "data": {
      "text/html": [
       "<div>\n",
       "<style scoped>\n",
       "    .dataframe tbody tr th:only-of-type {\n",
       "        vertical-align: middle;\n",
       "    }\n",
       "\n",
       "    .dataframe tbody tr th {\n",
       "        vertical-align: top;\n",
       "    }\n",
       "\n",
       "    .dataframe thead th {\n",
       "        text-align: right;\n",
       "    }\n",
       "</style>\n",
       "<table border=\"1\" class=\"dataframe\">\n",
       "  <thead>\n",
       "    <tr style=\"text-align: right;\">\n",
       "      <th></th>\n",
       "      <th>姓名</th>\n",
       "      <th>性别</th>\n",
       "      <th>身高</th>\n",
       "    </tr>\n",
       "  </thead>\n",
       "  <tbody>\n",
       "    <tr>\n",
       "      <th>003</th>\n",
       "      <td>小王</td>\n",
       "      <td>男</td>\n",
       "      <td>178.2</td>\n",
       "    </tr>\n",
       "    <tr>\n",
       "      <th>004</th>\n",
       "      <td>小张</td>\n",
       "      <td>男</td>\n",
       "      <td>181.3</td>\n",
       "    </tr>\n",
       "    <tr>\n",
       "      <th>005</th>\n",
       "      <td>小赵</td>\n",
       "      <td>女</td>\n",
       "      <td>161.7</td>\n",
       "    </tr>\n",
       "  </tbody>\n",
       "</table>\n",
       "</div>"
      ],
      "text/plain": [
       "     姓名 性别     身高\n",
       "003  小王  男  178.2\n",
       "004  小张  男  181.3\n",
       "005  小赵  女  161.7"
      ]
     },
     "execution_count": 132,
     "metadata": {},
     "output_type": "execute_result"
    }
   ],
   "source": [
    "students.loc[\"003\":\"005\"]"
   ]
  },
  {
   "cell_type": "code",
   "execution_count": 136,
   "id": "cd4346ca-1902-4644-aa91-d8faf8cef346",
   "metadata": {},
   "outputs": [
    {
     "data": {
      "text/plain": [
       "161.7"
      ]
     },
     "execution_count": 136,
     "metadata": {},
     "output_type": "execute_result"
    }
   ],
   "source": [
    "students.loc[\"005\",\"身高\"]"
   ]
  },
  {
   "cell_type": "code",
   "execution_count": 143,
   "id": "20a943f3-ff70-492a-a98b-8b2adbea4007",
   "metadata": {},
   "outputs": [
    {
     "data": {
      "text/html": [
       "<div>\n",
       "<style scoped>\n",
       "    .dataframe tbody tr th:only-of-type {\n",
       "        vertical-align: middle;\n",
       "    }\n",
       "\n",
       "    .dataframe tbody tr th {\n",
       "        vertical-align: top;\n",
       "    }\n",
       "\n",
       "    .dataframe thead th {\n",
       "        text-align: right;\n",
       "    }\n",
       "</style>\n",
       "<table border=\"1\" class=\"dataframe\">\n",
       "  <thead>\n",
       "    <tr style=\"text-align: right;\">\n",
       "      <th></th>\n",
       "      <th>姓名</th>\n",
       "      <th>身高</th>\n",
       "    </tr>\n",
       "  </thead>\n",
       "  <tbody>\n",
       "    <tr>\n",
       "      <th>003</th>\n",
       "      <td>小王</td>\n",
       "      <td>178.2</td>\n",
       "    </tr>\n",
       "    <tr>\n",
       "      <th>005</th>\n",
       "      <td>小赵</td>\n",
       "      <td>161.7</td>\n",
       "    </tr>\n",
       "  </tbody>\n",
       "</table>\n",
       "</div>"
      ],
      "text/plain": [
       "     姓名     身高\n",
       "003  小王  178.2\n",
       "005  小赵  161.7"
      ]
     },
     "execution_count": 143,
     "metadata": {},
     "output_type": "execute_result"
    }
   ],
   "source": [
    "students.loc[[\"003\",\"005\"],[\"姓名\",\"身高\"]]"
   ]
  },
  {
   "cell_type": "code",
   "execution_count": 147,
   "id": "ee72e38c-e573-49c4-b69d-2d0cb9f7e3cd",
   "metadata": {},
   "outputs": [
    {
     "data": {
      "text/html": [
       "<div>\n",
       "<style scoped>\n",
       "    .dataframe tbody tr th:only-of-type {\n",
       "        vertical-align: middle;\n",
       "    }\n",
       "\n",
       "    .dataframe tbody tr th {\n",
       "        vertical-align: top;\n",
       "    }\n",
       "\n",
       "    .dataframe thead th {\n",
       "        text-align: right;\n",
       "    }\n",
       "</style>\n",
       "<table border=\"1\" class=\"dataframe\">\n",
       "  <thead>\n",
       "    <tr style=\"text-align: right;\">\n",
       "      <th></th>\n",
       "      <th>姓名</th>\n",
       "      <th>性别</th>\n",
       "      <th>身高</th>\n",
       "    </tr>\n",
       "  </thead>\n",
       "  <tbody>\n",
       "    <tr>\n",
       "      <th>003</th>\n",
       "      <td>小王</td>\n",
       "      <td>男</td>\n",
       "      <td>178.2</td>\n",
       "    </tr>\n",
       "    <tr>\n",
       "      <th>005</th>\n",
       "      <td>小赵</td>\n",
       "      <td>女</td>\n",
       "      <td>161.7</td>\n",
       "    </tr>\n",
       "  </tbody>\n",
       "</table>\n",
       "</div>"
      ],
      "text/plain": [
       "     姓名 性别     身高\n",
       "003  小王  男  178.2\n",
       "005  小赵  女  161.7"
      ]
     },
     "execution_count": 147,
     "metadata": {},
     "output_type": "execute_result"
    }
   ],
   "source": [
    "students.loc[[\"003\",\"005\"],[\"姓名\",\"性别\",\"身高\"]]"
   ]
  },
  {
   "cell_type": "code",
   "execution_count": 158,
   "id": "9834cb16-6371-4aad-948c-60e2d0cf9171",
   "metadata": {},
   "outputs": [
    {
     "data": {
      "text/html": [
       "<div>\n",
       "<style scoped>\n",
       "    .dataframe tbody tr th:only-of-type {\n",
       "        vertical-align: middle;\n",
       "    }\n",
       "\n",
       "    .dataframe tbody tr th {\n",
       "        vertical-align: top;\n",
       "    }\n",
       "\n",
       "    .dataframe thead th {\n",
       "        text-align: right;\n",
       "    }\n",
       "</style>\n",
       "<table border=\"1\" class=\"dataframe\">\n",
       "  <thead>\n",
       "    <tr style=\"text-align: right;\">\n",
       "      <th></th>\n",
       "      <th>姓名</th>\n",
       "      <th>性别</th>\n",
       "      <th>身高</th>\n",
       "    </tr>\n",
       "  </thead>\n",
       "  <tbody>\n",
       "    <tr>\n",
       "      <th>001</th>\n",
       "      <td>小陈</td>\n",
       "      <td>女</td>\n",
       "      <td>172.5</td>\n",
       "    </tr>\n",
       "    <tr>\n",
       "      <th>002</th>\n",
       "      <td>小李</td>\n",
       "      <td>女</td>\n",
       "      <td>168.0</td>\n",
       "    </tr>\n",
       "  </tbody>\n",
       "</table>\n",
       "</div>"
      ],
      "text/plain": [
       "     姓名 性别     身高\n",
       "001  小陈  女  172.5\n",
       "002  小李  女  168.0"
      ]
     },
     "execution_count": 158,
     "metadata": {},
     "output_type": "execute_result"
    }
   ],
   "source": [
    "students[(students[\"身高\"] > 165) & (students[\"性别\"] == \"女\")]"
   ]
  },
  {
   "cell_type": "code",
   "execution_count": 159,
   "id": "a26ec95f-3c15-4964-811d-30bad2ad5628",
   "metadata": {},
   "outputs": [
    {
     "data": {
      "text/html": [
       "<div>\n",
       "<style scoped>\n",
       "    .dataframe tbody tr th:only-of-type {\n",
       "        vertical-align: middle;\n",
       "    }\n",
       "\n",
       "    .dataframe tbody tr th {\n",
       "        vertical-align: top;\n",
       "    }\n",
       "\n",
       "    .dataframe thead th {\n",
       "        text-align: right;\n",
       "    }\n",
       "</style>\n",
       "<table border=\"1\" class=\"dataframe\">\n",
       "  <thead>\n",
       "    <tr style=\"text-align: right;\">\n",
       "      <th></th>\n",
       "      <th>姓名</th>\n",
       "      <th>性别</th>\n",
       "      <th>身高</th>\n",
       "    </tr>\n",
       "  </thead>\n",
       "  <tbody>\n",
       "    <tr>\n",
       "      <th>001</th>\n",
       "      <td>小陈</td>\n",
       "      <td>女</td>\n",
       "      <td>172.5</td>\n",
       "    </tr>\n",
       "    <tr>\n",
       "      <th>002</th>\n",
       "      <td>小李</td>\n",
       "      <td>女</td>\n",
       "      <td>168.0</td>\n",
       "    </tr>\n",
       "  </tbody>\n",
       "</table>\n",
       "</div>"
      ],
      "text/plain": [
       "     姓名 性别     身高\n",
       "001  小陈  女  172.5\n",
       "002  小李  女  168.0"
      ]
     },
     "execution_count": 159,
     "metadata": {},
     "output_type": "execute_result"
    }
   ],
   "source": [
    "students[(students.身高 > 165) & (students.性别 == \"女\")]"
   ]
  },
  {
   "cell_type": "code",
   "execution_count": 160,
   "id": "65b03240-8f32-4540-8091-79da56b8198d",
   "metadata": {},
   "outputs": [
    {
     "data": {
      "text/html": [
       "<div>\n",
       "<style scoped>\n",
       "    .dataframe tbody tr th:only-of-type {\n",
       "        vertical-align: middle;\n",
       "    }\n",
       "\n",
       "    .dataframe tbody tr th {\n",
       "        vertical-align: top;\n",
       "    }\n",
       "\n",
       "    .dataframe thead th {\n",
       "        text-align: right;\n",
       "    }\n",
       "</style>\n",
       "<table border=\"1\" class=\"dataframe\">\n",
       "  <thead>\n",
       "    <tr style=\"text-align: right;\">\n",
       "      <th></th>\n",
       "      <th>姓名</th>\n",
       "      <th>性别</th>\n",
       "      <th>身高</th>\n",
       "    </tr>\n",
       "  </thead>\n",
       "  <tbody>\n",
       "    <tr>\n",
       "      <th>001</th>\n",
       "      <td>小陈</td>\n",
       "      <td>女</td>\n",
       "      <td>172.5</td>\n",
       "    </tr>\n",
       "    <tr>\n",
       "      <th>002</th>\n",
       "      <td>小李</td>\n",
       "      <td>女</td>\n",
       "      <td>168.0</td>\n",
       "    </tr>\n",
       "    <tr>\n",
       "      <th>003</th>\n",
       "      <td>小王</td>\n",
       "      <td>男</td>\n",
       "      <td>178.2</td>\n",
       "    </tr>\n",
       "    <tr>\n",
       "      <th>004</th>\n",
       "      <td>小张</td>\n",
       "      <td>男</td>\n",
       "      <td>181.3</td>\n",
       "    </tr>\n",
       "    <tr>\n",
       "      <th>005</th>\n",
       "      <td>小赵</td>\n",
       "      <td>女</td>\n",
       "      <td>161.7</td>\n",
       "    </tr>\n",
       "    <tr>\n",
       "      <th>006</th>\n",
       "      <td>小周</td>\n",
       "      <td>男</td>\n",
       "      <td>NaN</td>\n",
       "    </tr>\n",
       "  </tbody>\n",
       "</table>\n",
       "</div>"
      ],
      "text/plain": [
       "     姓名 性别     身高\n",
       "001  小陈  女  172.5\n",
       "002  小李  女  168.0\n",
       "003  小王  男  178.2\n",
       "004  小张  男  181.3\n",
       "005  小赵  女  161.7\n",
       "006  小周  男    NaN"
      ]
     },
     "execution_count": 160,
     "metadata": {},
     "output_type": "execute_result"
    }
   ],
   "source": [
    "students"
   ]
  },
  {
   "cell_type": "code",
   "execution_count": 167,
   "id": "41631942-7ca6-4d1d-b3af-26ad94a6a893",
   "metadata": {},
   "outputs": [
    {
     "data": {
      "text/html": [
       "<div>\n",
       "<style scoped>\n",
       "    .dataframe tbody tr th:only-of-type {\n",
       "        vertical-align: middle;\n",
       "    }\n",
       "\n",
       "    .dataframe tbody tr th {\n",
       "        vertical-align: top;\n",
       "    }\n",
       "\n",
       "    .dataframe thead th {\n",
       "        text-align: right;\n",
       "    }\n",
       "</style>\n",
       "<table border=\"1\" class=\"dataframe\">\n",
       "  <thead>\n",
       "    <tr style=\"text-align: right;\">\n",
       "      <th></th>\n",
       "      <th>姓名</th>\n",
       "      <th>性别</th>\n",
       "      <th>身高</th>\n",
       "      <th>aa</th>\n",
       "    </tr>\n",
       "  </thead>\n",
       "  <tbody>\n",
       "    <tr>\n",
       "      <th>001</th>\n",
       "      <td>小陈</td>\n",
       "      <td>女</td>\n",
       "      <td>1</td>\n",
       "      <td>1</td>\n",
       "    </tr>\n",
       "    <tr>\n",
       "      <th>002</th>\n",
       "      <td>小李</td>\n",
       "      <td>女</td>\n",
       "      <td>2</td>\n",
       "      <td>2</td>\n",
       "    </tr>\n",
       "    <tr>\n",
       "      <th>003</th>\n",
       "      <td>大王</td>\n",
       "      <td>女</td>\n",
       "      <td>55</td>\n",
       "      <td>66</td>\n",
       "    </tr>\n",
       "    <tr>\n",
       "      <th>004</th>\n",
       "      <td>小张</td>\n",
       "      <td>男</td>\n",
       "      <td>4</td>\n",
       "      <td>4</td>\n",
       "    </tr>\n",
       "    <tr>\n",
       "      <th>005</th>\n",
       "      <td>小赵</td>\n",
       "      <td>女</td>\n",
       "      <td>5</td>\n",
       "      <td>5</td>\n",
       "    </tr>\n",
       "    <tr>\n",
       "      <th>006</th>\n",
       "      <td>小周</td>\n",
       "      <td>男</td>\n",
       "      <td>6</td>\n",
       "      <td>6</td>\n",
       "    </tr>\n",
       "  </tbody>\n",
       "</table>\n",
       "</div>"
      ],
      "text/plain": [
       "     姓名 性别  身高  aa\n",
       "001  小陈  女   1   1\n",
       "002  小李  女   2   2\n",
       "003  大王  女  55  66\n",
       "004  小张  男   4   4\n",
       "005  小赵  女   5   5\n",
       "006  小周  男   6   6"
      ]
     },
     "execution_count": 167,
     "metadata": {},
     "output_type": "execute_result"
    }
   ],
   "source": [
    "students[\"aa\"]=[1,2,3,4,5,6]\n",
    "students.loc[\"003\"]=[\"大王\",\"女\",55,66]\n",
    "students"
   ]
  },
  {
   "cell_type": "code",
   "execution_count": null,
   "id": "7e528b9d-a7a2-46a8-8c9b-4fde163aac06",
   "metadata": {},
   "outputs": [],
   "source": []
  },
  {
   "cell_type": "code",
   "execution_count": 175,
   "id": "e5432546-edfe-46df-838d-bcd6dea7f063",
   "metadata": {},
   "outputs": [
    {
     "data": {
      "text/html": [
       "<div>\n",
       "<style scoped>\n",
       "    .dataframe tbody tr th:only-of-type {\n",
       "        vertical-align: middle;\n",
       "    }\n",
       "\n",
       "    .dataframe tbody tr th {\n",
       "        vertical-align: top;\n",
       "    }\n",
       "\n",
       "    .dataframe thead th {\n",
       "        text-align: right;\n",
       "    }\n",
       "</style>\n",
       "<table border=\"1\" class=\"dataframe\">\n",
       "  <thead>\n",
       "    <tr style=\"text-align: right;\">\n",
       "      <th></th>\n",
       "      <th>姓名</th>\n",
       "      <th>性别</th>\n",
       "      <th>身高</th>\n",
       "    </tr>\n",
       "  </thead>\n",
       "  <tbody>\n",
       "    <tr>\n",
       "      <th>001</th>\n",
       "      <td>小陈</td>\n",
       "      <td>女</td>\n",
       "      <td>1</td>\n",
       "    </tr>\n",
       "    <tr>\n",
       "      <th>002</th>\n",
       "      <td>小李</td>\n",
       "      <td>女</td>\n",
       "      <td>2</td>\n",
       "    </tr>\n",
       "    <tr>\n",
       "      <th>003</th>\n",
       "      <td>大王</td>\n",
       "      <td>女</td>\n",
       "      <td>55</td>\n",
       "    </tr>\n",
       "    <tr>\n",
       "      <th>004</th>\n",
       "      <td>小张</td>\n",
       "      <td>男</td>\n",
       "      <td>4</td>\n",
       "    </tr>\n",
       "    <tr>\n",
       "      <th>005</th>\n",
       "      <td>小赵</td>\n",
       "      <td>女</td>\n",
       "      <td>5</td>\n",
       "    </tr>\n",
       "    <tr>\n",
       "      <th>006</th>\n",
       "      <td>小周</td>\n",
       "      <td>男</td>\n",
       "      <td>6</td>\n",
       "    </tr>\n",
       "  </tbody>\n",
       "</table>\n",
       "</div>"
      ],
      "text/plain": [
       "     姓名 性别  身高\n",
       "001  小陈  女   1\n",
       "002  小李  女   2\n",
       "003  大王  女  55\n",
       "004  小张  男   4\n",
       "005  小赵  女   5\n",
       "006  小周  男   6"
      ]
     },
     "execution_count": 175,
     "metadata": {},
     "output_type": "execute_result"
    }
   ],
   "source": [
    "students.drop(\"aa\",axis=1)\n"
   ]
  },
  {
   "cell_type": "code",
   "execution_count": 186,
   "id": "3c20d04a-7535-48b3-9ed7-92e2b93ac53a",
   "metadata": {},
   "outputs": [
    {
     "data": {
      "text/html": [
       "<div>\n",
       "<style scoped>\n",
       "    .dataframe tbody tr th:only-of-type {\n",
       "        vertical-align: middle;\n",
       "    }\n",
       "\n",
       "    .dataframe tbody tr th {\n",
       "        vertical-align: top;\n",
       "    }\n",
       "\n",
       "    .dataframe thead th {\n",
       "        text-align: right;\n",
       "    }\n",
       "</style>\n",
       "<table border=\"1\" class=\"dataframe\">\n",
       "  <thead>\n",
       "    <tr style=\"text-align: right;\">\n",
       "      <th></th>\n",
       "      <th>questionType</th>\n",
       "      <th>asin</th>\n",
       "      <th>answerTime</th>\n",
       "      <th>unixTime</th>\n",
       "      <th>question</th>\n",
       "      <th>answerType</th>\n",
       "      <th>answer</th>\n",
       "    </tr>\n",
       "  </thead>\n",
       "  <tbody>\n",
       "    <tr>\n",
       "      <th>0</th>\n",
       "      <td>yes/no</td>\n",
       "      <td>1466736038</td>\n",
       "      <td>Mar 8,2014</td>\n",
       "      <td>1394265600</td>\n",
       "      <td>Is there a SIM card in it?</td>\n",
       "      <td>Y</td>\n",
       "      <td>Yes, The Galaxy SIII accommodates a micro SIM ...</td>\n",
       "    </tr>\n",
       "    <tr>\n",
       "      <th>1</th>\n",
       "      <td>yes/no</td>\n",
       "      <td>1466736038</td>\n",
       "      <td>Mar 8,2014</td>\n",
       "      <td>1394265600</td>\n",
       "      <td>Is there a SIM card in it?</td>\n",
       "      <td>Y</td>\n",
       "      <td>Yes, The Galaxy SIII accommodates a micro SIM ...</td>\n",
       "    </tr>\n",
       "  </tbody>\n",
       "</table>\n",
       "</div>"
      ],
      "text/plain": [
       "  questionType        asin  answerTime    unixTime  \\\n",
       "0       yes/no  1466736038  Mar 8,2014  1394265600   \n",
       "1       yes/no  1466736038  Mar 8,2014  1394265600   \n",
       "\n",
       "                     question answerType  \\\n",
       "0  Is there a SIM card in it?          Y   \n",
       "1  Is there a SIM card in it?          Y   \n",
       "\n",
       "                                              answer  \n",
       "0  Yes, The Galaxy SIII accommodates a micro SIM ...  \n",
       "1  Yes, The Galaxy SIII accommodates a micro SIM ...  "
      ]
     },
     "execution_count": 186,
     "metadata": {},
     "output_type": "execute_result"
    }
   ],
   "source": [
    "ss = pd.read_json(\"./JS.JSON\")\n",
    "ss"
   ]
  },
  {
   "cell_type": "code",
   "execution_count": 187,
   "id": "ed315fe6-f7f3-4086-8313-336cff5011b8",
   "metadata": {},
   "outputs": [
    {
     "name": "stdout",
     "output_type": "stream",
     "text": [
      "<class 'pandas.core.frame.DataFrame'>\n",
      "RangeIndex: 2 entries, 0 to 1\n",
      "Data columns (total 7 columns):\n",
      " #   Column        Non-Null Count  Dtype \n",
      "---  ------        --------------  ----- \n",
      " 0   questionType  2 non-null      object\n",
      " 1   asin          2 non-null      int64 \n",
      " 2   answerTime    2 non-null      object\n",
      " 3   unixTime      2 non-null      int64 \n",
      " 4   question      2 non-null      object\n",
      " 5   answerType    2 non-null      object\n",
      " 6   answer        2 non-null      object\n",
      "dtypes: int64(2), object(5)\n",
      "memory usage: 244.0+ bytes\n"
     ]
    }
   ],
   "source": [
    "ss.info()"
   ]
  },
  {
   "cell_type": "code",
   "execution_count": 188,
   "id": "9f17e7dd-3185-42df-aded-ff88fee96de6",
   "metadata": {},
   "outputs": [
    {
     "data": {
      "text/html": [
       "<div>\n",
       "<style scoped>\n",
       "    .dataframe tbody tr th:only-of-type {\n",
       "        vertical-align: middle;\n",
       "    }\n",
       "\n",
       "    .dataframe tbody tr th {\n",
       "        vertical-align: top;\n",
       "    }\n",
       "\n",
       "    .dataframe thead th {\n",
       "        text-align: right;\n",
       "    }\n",
       "</style>\n",
       "<table border=\"1\" class=\"dataframe\">\n",
       "  <thead>\n",
       "    <tr style=\"text-align: right;\">\n",
       "      <th></th>\n",
       "      <th>asin</th>\n",
       "      <th>unixTime</th>\n",
       "    </tr>\n",
       "  </thead>\n",
       "  <tbody>\n",
       "    <tr>\n",
       "      <th>count</th>\n",
       "      <td>2.000000e+00</td>\n",
       "      <td>2.000000e+00</td>\n",
       "    </tr>\n",
       "    <tr>\n",
       "      <th>mean</th>\n",
       "      <td>1.466736e+09</td>\n",
       "      <td>1.394266e+09</td>\n",
       "    </tr>\n",
       "    <tr>\n",
       "      <th>std</th>\n",
       "      <td>0.000000e+00</td>\n",
       "      <td>0.000000e+00</td>\n",
       "    </tr>\n",
       "    <tr>\n",
       "      <th>min</th>\n",
       "      <td>1.466736e+09</td>\n",
       "      <td>1.394266e+09</td>\n",
       "    </tr>\n",
       "    <tr>\n",
       "      <th>25%</th>\n",
       "      <td>1.466736e+09</td>\n",
       "      <td>1.394266e+09</td>\n",
       "    </tr>\n",
       "    <tr>\n",
       "      <th>50%</th>\n",
       "      <td>1.466736e+09</td>\n",
       "      <td>1.394266e+09</td>\n",
       "    </tr>\n",
       "    <tr>\n",
       "      <th>75%</th>\n",
       "      <td>1.466736e+09</td>\n",
       "      <td>1.394266e+09</td>\n",
       "    </tr>\n",
       "    <tr>\n",
       "      <th>max</th>\n",
       "      <td>1.466736e+09</td>\n",
       "      <td>1.394266e+09</td>\n",
       "    </tr>\n",
       "  </tbody>\n",
       "</table>\n",
       "</div>"
      ],
      "text/plain": [
       "               asin      unixTime\n",
       "count  2.000000e+00  2.000000e+00\n",
       "mean   1.466736e+09  1.394266e+09\n",
       "std    0.000000e+00  0.000000e+00\n",
       "min    1.466736e+09  1.394266e+09\n",
       "25%    1.466736e+09  1.394266e+09\n",
       "50%    1.466736e+09  1.394266e+09\n",
       "75%    1.466736e+09  1.394266e+09\n",
       "max    1.466736e+09  1.394266e+09"
      ]
     },
     "execution_count": 188,
     "metadata": {},
     "output_type": "execute_result"
    }
   ],
   "source": [
    "ss.describe()"
   ]
  },
  {
   "cell_type": "code",
   "execution_count": 189,
   "id": "8d4f0cc5-2e2a-4c8c-9f04-76b73744a835",
   "metadata": {},
   "outputs": [
    {
     "data": {
      "text/html": [
       "<div>\n",
       "<style scoped>\n",
       "    .dataframe tbody tr th:only-of-type {\n",
       "        vertical-align: middle;\n",
       "    }\n",
       "\n",
       "    .dataframe tbody tr th {\n",
       "        vertical-align: top;\n",
       "    }\n",
       "\n",
       "    .dataframe thead th {\n",
       "        text-align: right;\n",
       "    }\n",
       "</style>\n",
       "<table border=\"1\" class=\"dataframe\">\n",
       "  <thead>\n",
       "    <tr style=\"text-align: right;\">\n",
       "      <th></th>\n",
       "      <th>questionType</th>\n",
       "      <th>asin</th>\n",
       "      <th>answerTime</th>\n",
       "      <th>unixTime</th>\n",
       "      <th>question</th>\n",
       "      <th>answerType</th>\n",
       "      <th>answer</th>\n",
       "    </tr>\n",
       "  </thead>\n",
       "  <tbody>\n",
       "    <tr>\n",
       "      <th>0</th>\n",
       "      <td>yes/no</td>\n",
       "      <td>1466736038</td>\n",
       "      <td>Mar 8,2014</td>\n",
       "      <td>1394265600</td>\n",
       "      <td>Is there a SIM card in it?</td>\n",
       "      <td>Y</td>\n",
       "      <td>Yes, The Galaxy SIII accommodates a micro SIM ...</td>\n",
       "    </tr>\n",
       "    <tr>\n",
       "      <th>1</th>\n",
       "      <td>yes/no</td>\n",
       "      <td>1466736038</td>\n",
       "      <td>Mar 8,2014</td>\n",
       "      <td>1394265600</td>\n",
       "      <td>Is there a SIM card in it?</td>\n",
       "      <td>Y</td>\n",
       "      <td>Yes, The Galaxy SIII accommodates a micro SIM ...</td>\n",
       "    </tr>\n",
       "  </tbody>\n",
       "</table>\n",
       "</div>"
      ],
      "text/plain": [
       "  questionType        asin  answerTime    unixTime  \\\n",
       "0       yes/no  1466736038  Mar 8,2014  1394265600   \n",
       "1       yes/no  1466736038  Mar 8,2014  1394265600   \n",
       "\n",
       "                     question answerType  \\\n",
       "0  Is there a SIM card in it?          Y   \n",
       "1  Is there a SIM card in it?          Y   \n",
       "\n",
       "                                              answer  \n",
       "0  Yes, The Galaxy SIII accommodates a micro SIM ...  \n",
       "1  Yes, The Galaxy SIII accommodates a micro SIM ...  "
      ]
     },
     "execution_count": 189,
     "metadata": {},
     "output_type": "execute_result"
    }
   ],
   "source": [
    "ss"
   ]
  },
  {
   "cell_type": "code",
   "execution_count": 194,
   "id": "187fba80-c974-4128-8764-a56baacf23a8",
   "metadata": {},
   "outputs": [
    {
     "data": {
      "text/plain": [
       "questionType\n",
       "yes/no    2\n",
       "Name: count, dtype: int64"
      ]
     },
     "execution_count": 194,
     "metadata": {},
     "output_type": "execute_result"
    }
   ],
   "source": [
    "ss[\"questionType\"].value_counts()"
   ]
  },
  {
   "cell_type": "markdown",
   "id": "78c675be-cadd-4e41-adf1-5ca62fdd0c3e",
   "metadata": {},
   "source": [
    "ss"
   ]
  },
  {
   "cell_type": "code",
   "execution_count": 196,
   "id": "94461821-2447-47b6-a287-403d91dfc9fb",
   "metadata": {},
   "outputs": [
    {
     "data": {
      "text/html": [
       "<div>\n",
       "<style scoped>\n",
       "    .dataframe tbody tr th:only-of-type {\n",
       "        vertical-align: middle;\n",
       "    }\n",
       "\n",
       "    .dataframe tbody tr th {\n",
       "        vertical-align: top;\n",
       "    }\n",
       "\n",
       "    .dataframe thead th {\n",
       "        text-align: right;\n",
       "    }\n",
       "</style>\n",
       "<table border=\"1\" class=\"dataframe\">\n",
       "  <thead>\n",
       "    <tr style=\"text-align: right;\">\n",
       "      <th></th>\n",
       "      <th>questionType</th>\n",
       "      <th>asin</th>\n",
       "      <th>answerTime</th>\n",
       "      <th>unixTime</th>\n",
       "      <th>question</th>\n",
       "      <th>answerType</th>\n",
       "      <th>answer</th>\n",
       "    </tr>\n",
       "  </thead>\n",
       "  <tbody>\n",
       "    <tr>\n",
       "      <th>0</th>\n",
       "      <td>yes/no</td>\n",
       "      <td>1466736038</td>\n",
       "      <td>Mar 8,2014</td>\n",
       "      <td>1394265600</td>\n",
       "      <td>Is there a SIM card in it?</td>\n",
       "      <td>Y</td>\n",
       "      <td>Yes, The Galaxy SIII accommodates a micro SIM ...</td>\n",
       "    </tr>\n",
       "    <tr>\n",
       "      <th>1</th>\n",
       "      <td>yes/no</td>\n",
       "      <td>1466736038</td>\n",
       "      <td>Mar 8,2014</td>\n",
       "      <td>1394265600</td>\n",
       "      <td>Is there a SIM card in it?</td>\n",
       "      <td>Y</td>\n",
       "      <td>Yes, The Galaxy SIII accommodates a micro SIM ...</td>\n",
       "    </tr>\n",
       "  </tbody>\n",
       "</table>\n",
       "</div>"
      ],
      "text/plain": [
       "  questionType        asin  answerTime    unixTime  \\\n",
       "0       yes/no  1466736038  Mar 8,2014  1394265600   \n",
       "1       yes/no  1466736038  Mar 8,2014  1394265600   \n",
       "\n",
       "                     question answerType  \\\n",
       "0  Is there a SIM card in it?          Y   \n",
       "1  Is there a SIM card in it?          Y   \n",
       "\n",
       "                                              answer  \n",
       "0  Yes, The Galaxy SIII accommodates a micro SIM ...  \n",
       "1  Yes, The Galaxy SIII accommodates a micro SIM ...  "
      ]
     },
     "execution_count": 196,
     "metadata": {},
     "output_type": "execute_result"
    }
   ],
   "source": [
    "ss"
   ]
  },
  {
   "cell_type": "code",
   "execution_count": 197,
   "id": "406ddf5a-1471-49d5-a14a-ad6e27fbd5e2",
   "metadata": {},
   "outputs": [
    {
     "data": {
      "text/html": [
       "<div>\n",
       "<style scoped>\n",
       "    .dataframe tbody tr th:only-of-type {\n",
       "        vertical-align: middle;\n",
       "    }\n",
       "\n",
       "    .dataframe tbody tr th {\n",
       "        vertical-align: top;\n",
       "    }\n",
       "\n",
       "    .dataframe thead th {\n",
       "        text-align: right;\n",
       "    }\n",
       "</style>\n",
       "<table border=\"1\" class=\"dataframe\">\n",
       "  <thead>\n",
       "    <tr style=\"text-align: right;\">\n",
       "      <th></th>\n",
       "      <th>questionType</th>\n",
       "      <th>asin</th>\n",
       "      <th>answerTime</th>\n",
       "      <th>unixTime</th>\n",
       "      <th>question</th>\n",
       "      <th>answerType</th>\n",
       "      <th>answer</th>\n",
       "    </tr>\n",
       "  </thead>\n",
       "  <tbody>\n",
       "    <tr>\n",
       "      <th>0</th>\n",
       "      <td>yes/no</td>\n",
       "      <td>1466736038</td>\n",
       "      <td>Mar 8,2014</td>\n",
       "      <td>1394265600</td>\n",
       "      <td>Is there a SIM card in it?</td>\n",
       "      <td>Y</td>\n",
       "      <td>Yes, The Galaxy SIII accommodates a micro SIM ...</td>\n",
       "    </tr>\n",
       "    <tr>\n",
       "      <th>1</th>\n",
       "      <td>yes/no</td>\n",
       "      <td>1466736038</td>\n",
       "      <td>Mar 8,2014</td>\n",
       "      <td>1394265600</td>\n",
       "      <td>Is there a SIM card in it?</td>\n",
       "      <td>Y</td>\n",
       "      <td>Yes, The Galaxy SIII accommodates a micro SIM ...</td>\n",
       "    </tr>\n",
       "  </tbody>\n",
       "</table>\n",
       "</div>"
      ],
      "text/plain": [
       "  questionType        asin  answerTime    unixTime  \\\n",
       "0       yes/no  1466736038  Mar 8,2014  1394265600   \n",
       "1       yes/no  1466736038  Mar 8,2014  1394265600   \n",
       "\n",
       "                     question answerType  \\\n",
       "0  Is there a SIM card in it?          Y   \n",
       "1  Is there a SIM card in it?          Y   \n",
       "\n",
       "                                              answer  \n",
       "0  Yes, The Galaxy SIII accommodates a micro SIM ...  \n",
       "1  Yes, The Galaxy SIII accommodates a micro SIM ...  "
      ]
     },
     "execution_count": 197,
     "metadata": {},
     "output_type": "execute_result"
    }
   ],
   "source": [
    "sss = ss\n",
    "sss"
   ]
  },
  {
   "cell_type": "code",
   "execution_count": null,
   "id": "ab25576a-0124-451c-83d1-fa13866b28fd",
   "metadata": {},
   "outputs": [],
   "source": []
  },
  {
   "cell_type": "code",
   "execution_count": null,
   "id": "0af57135-ac15-4df8-922d-196eb901e130",
   "metadata": {},
   "outputs": [],
   "source": []
  }
 ],
 "metadata": {
  "kernelspec": {
   "display_name": "Python 3 (ipykernel)",
   "language": "python",
   "name": "python3"
  },
  "language_info": {
   "codemirror_mode": {
    "name": "ipython",
    "version": 3
   },
   "file_extension": ".py",
   "mimetype": "text/x-python",
   "name": "python",
   "nbconvert_exporter": "python",
   "pygments_lexer": "ipython3",
   "version": "3.12.0"
  }
 },
 "nbformat": 4,
 "nbformat_minor": 5
}
